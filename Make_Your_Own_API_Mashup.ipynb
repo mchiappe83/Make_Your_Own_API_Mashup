{
 "cells": [
  {
   "cell_type": "code",
   "execution_count": 2,
   "metadata": {},
   "outputs": [],
   "source": [
    "#Create request and response in Python so we can embed functionalities into our server side code.\n",
    "\n",
    "import json #converting in memory python objects to a serialized Python representation\n",
    "import httplib2 #comprehensive http client library in Python"
   ]
  },
  {
   "cell_type": "code",
   "execution_count": 3,
   "metadata": {},
   "outputs": [],
   "source": [
    "#input string is the name of the place we want the coordinates\n",
    "def getGeocodeLocation(inputString):\n",
    "    # Use Google Maps to convert a location into Latitute/Longitute coordinates\n",
    "    # FORMAT: https://maps.googleapis.com/maps/api/geocode/json?address=1600+Amphitheatre+Parkway,+Mountain+View,+CA&key=API_KEY\n",
    "    #Having secret keys visible in python isn't the safest practice for live code\n",
    "    google_api_key = \"PASTE_YOUR_KEY_HERE\"\n",
    "    #Replace spaces with plus signs such that there are no brakes in my URL path\n",
    "    locationString = inputString.replace(\" \", \"+\")\n",
    "    #Build the URL\n",
    "    url = ('https://maps.googleapis.com/maps/api/geocode/json?address=%s&key=%s'% (locationString, google_api_key))\n",
    "    #Create an instance of the http class\n",
    "    h = httplib2.Http()\n",
    "    #GET request\n",
    "    result = json.loads(h.request(url,'GET')[1])\n",
    "    latitude = result['results'][0]['geometry']['location']['lat']\n",
    "    longitude = result['results'][0]['geometry']['location']['lng']\n",
    "    return (latitude,longitude)"
   ]
  },
  {
   "cell_type": "code",
   "execution_count": 4,
   "metadata": {},
   "outputs": [],
   "source": [
    "#dallas = getGeocodeLocation(\"Dallas, Texas\")\n",
    "#dallas.keys()"
   ]
  },
  {
   "cell_type": "code",
   "execution_count": 5,
   "metadata": {},
   "outputs": [],
   "source": [
    "import sys\n",
    "import codecs\n",
    "sys.stdout = codecs.getwriter('utf8')(sys.stdout)\n",
    "sys.stderr = codecs.getwriter('utf8')(sys.stderr)\n",
    "\n",
    "foursquare_client_id = \"PASTE_CLIENT_ID_HERE\"\n",
    "foursquare_client_secret = \"PASTE_CLIENT_SECRET_HERE\""
   ]
  },
  {
   "cell_type": "code",
   "execution_count": null,
   "metadata": {},
   "outputs": [],
   "source": [
    "def findARestaurant(mealType,location):\n",
    "    #1. Use getGeocodeLocation to get the latitude and longitude coordinates of the location string.\n",
    "    latitude, longitude = getGeocodeLocation(location)\n",
    "    #2.  Use foursquare API to find a nearby restaurant with the latitude, longitude, and mealType strings.\n",
    "    #HINT: format for url will be something like https://api.foursquare.com/v2/venues/search?client_id=CLIENT_ID&client_secret=CLIENT_SECRET&v=20130815&ll=40.7,-74&query=sushi\n",
    "    url = ('https://api.foursquare.com/v2/venues/search?client_id=%s&client_secret=%s&v=20130815&ll=%s,%s&query=%s' % (foursquare_client_id, foursquare_client_secret,latitude,longitude,mealType))\n",
    "\th = httplib2.Http()\n",
    "\tresult = json.loads(h.request(url,'GET')[1])\n",
    "\t\n",
    "\tif result['response']['venues']:\n",
    "\t\t#3.  Grab the first restaurant\n",
    "\t\trestaurant = result['response']['venues'][0]\n",
    "\t\tvenue_id = restaurant['id'] \n",
    "\t\trestaurant_name = restaurant['name']\n",
    "\t\trestaurant_address = restaurant['location']['formattedAddress']\n",
    "\t\taddress = \"\"\n",
    "\t\tfor i in restaurant_address:\n",
    "\t\t\taddress += i + \" \"\n",
    "\t\trestaurant_address = address\n",
    "\t\t#4.  Get a  300x300 picture of the restaurant using the venue_id (you can change this by altering the 300x300 value in the URL or replacing it with 'orginal' to get the original picture\n",
    "\t\turl = ('https://api.foursquare.com/v2/venues/%s/photos?client_id=%s&v=20150603&client_secret=%s' % ((venue_id,foursquare_client_id,foursquare_client_secret)))\n",
    "\t\tresult = json.loads(h.request(url, 'GET')[1])\n",
    "\t\t#5.  Grab the first image\n",
    "\t\tif result['response']['photos']['items']:\n",
    "\t\t\tfirstpic = result['response']['photos']['items'][0]\n",
    "\t\t\tprefix = firstpic['prefix']\n",
    "\t\t\tsuffix = firstpic['suffix']\n",
    "\t\t\timageURL = prefix + \"300x300\" + suffix\n",
    "\t\telse:\n",
    "\t\t\t#6.  if no image available, insert default image url\n",
    "\t\t\timageURL = \"http://pixabay.com/get/8926af5eb597ca51ca4c/1433440765/cheeseburger-34314_1280.png?direct\"\n",
    "\t\t#7.  return a dictionary containing the restaurant name, address, and image url\n",
    "\t\trestaurantInfo = {'name':restaurant_name, 'address':restaurant_address, 'image':imageURL}\n",
    "\t\tprint (\"Restaurant Name: %s\" % restaurantInfo['name'])\n",
    "\t\tprint (\"Restaurant Address: %s\" % restaurantInfo['address'])\n",
    "\t\tprint (\"Image: %s \\n\" % restaurantInfo['image'])\n",
    "\t\treturn restaurantInfo\n",
    "\telse:\n",
    "\t\tprint (\"No Restaurants Found for %s\" % location)\n",
    "\t\treturn \"No Restaurants Found\"\n",
    "\n",
    "if __name__ == '__main__':\n",
    "\tfindARestaurant(\"Pizza\", \"Tokyo, Japan\")\n",
    "\tfindARestaurant(\"Tacos\", \"Jakarta, Indonesia\")\n",
    "\tfindARestaurant(\"Tapas\", \"Maputo, Mozambique\")\n",
    "\tfindARestaurant(\"Falafel\", \"Cairo, Egypt\")\n",
    "\tfindARestaurant(\"Spaghetti\", \"New Delhi, India\")\n",
    "\tfindARestaurant(\"Cappuccino\", \"Geneva, Switzerland\")\n",
    "\tfindARestaurant(\"Sushi\", \"Los Angeles, California\")\n",
    "\tfindARestaurant(\"Steak\", \"La Paz, Bolivia\")\n",
    "\tfindARestaurant(\"Gyros\", \"Sydney Australia\")"
   ]
  }
 ],
 "metadata": {
  "kernelspec": {
   "display_name": "Python [default]",
   "language": "python",
   "name": "python3"
  },
  "language_info": {
   "codemirror_mode": {
    "name": "ipython",
    "version": 3
   },
   "file_extension": ".py",
   "mimetype": "text/x-python",
   "name": "python",
   "nbconvert_exporter": "python",
   "pygments_lexer": "ipython3",
   "version": "3.7.0"
  }
 },
 "nbformat": 4,
 "nbformat_minor": 2
}
